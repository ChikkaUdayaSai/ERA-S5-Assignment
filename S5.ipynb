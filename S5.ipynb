{
  "cells": [
    {
      "cell_type": "code",
      "source": [
        "# Import necessary modules and functions from other Python files in the project\n",
        "from utils import (\n",
        "    torch,  # PyTorch library\n",
        "    is_cuda_available,  # Function to check if CUDA is available\n",
        "    get_device,  # Function to get the device (CPU or GPU) to be used for training\n",
        "    train_loader,  # Data loader for the training dataset\n",
        "    test_loader  # Data loader for the test dataset\n",
        ")\n",
        "\n",
        "from model import (\n",
        "    nn,  # PyTorch's neural network module\n",
        "    Net,  # Custom neural network model,\n",
        "    F\n",
        ")\n",
        "\n",
        "import torch.optim as optim  # PyTorch's optimization module"
      ],
      "metadata": {
        "id": "g3vtChx1NR1C"
      },
      "id": "g3vtChx1NR1C",
      "execution_count": 11,
      "outputs": []
    },
    {
      "cell_type": "code",
      "source": [
        "print(\"CUDA Available?\", is_cuda_available())\n",
        "device = get_device()"
      ],
      "metadata": {
        "id": "--H2A4g1NWIW",
        "outputId": "5bd45331-e6a4-4c08-f06c-9ad1ccdd1d9c",
        "colab": {
          "base_uri": "https://localhost:8080/"
        }
      },
      "id": "--H2A4g1NWIW",
      "execution_count": 3,
      "outputs": [
        {
          "output_type": "stream",
          "name": "stdout",
          "text": [
            "CUDA Available? True\n"
          ]
        }
      ]
    },
    {
      "cell_type": "markdown",
      "source": [
        "This code snippet is used to visualize a batch of images from the MNIST dataset. It imports the `matplotlib` library to plot the images and `train_loader` to get a batch of images and their corresponding labels. It then iterates over the batch and plots each image with its label as the title. This code can be used to verify that the data is being loaded correctly and to get a sense of what the images in the dataset look like."
      ],
      "metadata": {
        "id": "KWcHYqq0OHNU"
      },
      "id": "KWcHYqq0OHNU"
    },
    {
      "cell_type": "code",
      "source": [
        "import matplotlib.pyplot as plt\n",
        "\n",
        "batch_data, batch_label = next(iter(train_loader)) \n",
        "\n",
        "fig = plt.figure()\n",
        "\n",
        "for i in range(12):\n",
        "  plt.subplot(3,4,i+1)\n",
        "  plt.tight_layout()\n",
        "  plt.imshow(batch_data[i].squeeze(0), cmap='gray')\n",
        "  plt.title(batch_label[i].item())\n",
        "  plt.xticks([])\n",
        "  plt.yticks([])"
      ],
      "metadata": {
        "id": "M-9J2kW_OI-w",
        "outputId": "8f69f1e9-15d7-4161-f361-8ee4ad24c228",
        "colab": {
          "base_uri": "https://localhost:8080/",
          "height": 463
        }
      },
      "id": "M-9J2kW_OI-w",
      "execution_count": 4,
      "outputs": [
        {
          "output_type": "display_data",
          "data": {
            "text/plain": [
              "<Figure size 640x480 with 12 Axes>"
            ],
            "image/png": "[encoded data removed]"
          },
          "metadata": {}
        }
      ]
    },
    {
      "cell_type": "code",
      "source": [
        "# Data to plot accuracy and loss graphs\n",
        "train_losses = []\n",
        "test_losses = []\n",
        "train_acc = []\n",
        "test_acc = []\n",
        "\n",
        "test_incorrect_pred = {'images': [], 'ground_truths': [], 'predicted_vals': []}"
      ],
      "metadata": {
        "id": "saanwwG4OSg5"
      },
      "id": "saanwwG4OSg5",
      "execution_count": 5,
      "outputs": []
    },
    {
      "cell_type": "markdown",
      "source": [
        "This code snippet defines two functions `train` and `test` that are used to train and test a PyTorch model on a given dataset. The `train` function takes as input the model, device, train loader, optimizer, and criterion and trains the model on the given dataset. The function iterates over the batches in the train loader, calculates the loss, backpropagates the gradients, and updates the weights of the model. The function also calculates the accuracy of the model on the training dataset and appends it to a list. The `test` function takes as input the model, device, test loader, and criterion and tests the model on the given dataset. The function iterates over the batches in the test loader, calculates the loss and accuracy of the model on the test dataset, and prints the results. These functions are used to train and test the model in the main script."
      ],
      "metadata": {
        "id": "VJ1qy2VsOXZu"
      },
      "id": "VJ1qy2VsOXZu"
    },
    {
      "cell_type": "code",
      "source": [
        "\n",
        "from tqdm import tqdm\n",
        "\n",
        "def GetCorrectPredCount(pPrediction, pLabels):\n",
        "  return pPrediction.argmax(dim=1).eq(pLabels).sum().item()\n",
        "\n",
        "def train(model, device, train_loader, optimizer, criterion):\n",
        "  model.train()\n",
        "  pbar = tqdm(train_loader)\n",
        "\n",
        "  train_loss = 0\n",
        "  correct = 0\n",
        "  processed = 0\n",
        "\n",
        "  for batch_idx, (data, target) in enumerate(pbar):\n",
        "    data, target = data.to(device), target.to(device)\n",
        "    optimizer.zero_grad()\n",
        "\n",
        "    # Predict\n",
        "    pred = model(data)\n",
        "\n",
        "    # Calculate loss\n",
        "    loss = criterion(pred, target)\n",
        "    train_loss+=loss.item()\n",
        "\n",
        "    # Backpropagation\n",
        "    loss.backward()\n",
        "    optimizer.step()\n",
        "    \n",
        "    correct += GetCorrectPredCount(pred, target)\n",
        "    processed += len(data)\n",
        "\n",
        "    pbar.set_description(desc= f'Train: Loss={loss.item():0.4f} Batch_id={batch_idx} Accuracy={100*correct/processed:0.2f}')\n",
        "\n",
        "  train_acc.append(100*correct/processed)\n",
        "  train_losses.append(train_loss/len(train_loader))\n",
        "\n",
        "def test(model, device, test_loader, criterion):\n",
        "    model.eval()\n",
        "\n",
        "    test_loss = 0\n",
        "    correct = 0\n",
        "\n",
        "    with torch.no_grad():\n",
        "        for batch_idx, (data, target) in enumerate(test_loader):\n",
        "            data, target = data.to(device), target.to(device)\n",
        "\n",
        "            output = model(data)\n",
        "            test_loss += criterion(output, target, reduction='sum').item()  # sum up batch loss\n",
        "\n",
        "            correct += GetCorrectPredCount(output, target)\n",
        "\n",
        "\n",
        "    test_loss /= len(test_loader.dataset)\n",
        "    test_acc.append(100. * correct / len(test_loader.dataset))\n",
        "    test_losses.append(test_loss)\n",
        "\n",
        "    print('Test set: Average loss: {:.4f}, Accuracy: {}/{} ({:.2f}%)\\n'.format(\n",
        "        test_loss, correct, len(test_loader.dataset),\n",
        "        100. * correct / len(test_loader.dataset)))\n",
        "     "
      ],
      "metadata": {
        "id": "drZGVhyCOU8m"
      },
      "id": "drZGVhyCOU8m",
      "execution_count": 6,
      "outputs": []
    },
    {
      "cell_type": "markdown",
      "source": [
        "This code snippet trains a PyTorch neural network model on the MNIST dataset. It first creates an instance of the `Net` class and moves it to the device (CPU or GPU) specified by the `device` variable. It then defines an optimizer and a learning rate scheduler for the model. The `criterion` variable is set to `nn.CrossEntropyLoss()`, which is the loss function used for multi-class classification problems. The `num_epochs` variable is set to 20, which is the number of times the model will be trained on the entire dataset. The `for` loop iterates over the epochs and calls the `train` and `test` functions to train and test the model on the training and test datasets, respectively. The learning rate scheduler is also called at the end of each epoch to adjust the learning rate of the optimizer. This code can be used to train a neural network model on the MNIST dataset and evaluate its performance."
      ],
      "metadata": {
        "id": "3XcNLNWcOcfe"
      },
      "id": "3XcNLNWcOcfe"
    },
    {
      "cell_type": "code",
      "source": [
        "model = Net().to(device)\n",
        "optimizer = optim.SGD(model.parameters(), lr=0.01, momentum=0.9)\n",
        "scheduler = optim.lr_scheduler.StepLR(optimizer, step_size=15, gamma=0.1, verbose=True)\n",
        "# New Line\n",
        "criterion = F.nll_loss\n",
        "num_epochs = 20\n",
        "\n",
        "for epoch in range(1, num_epochs+1):\n",
        "  print(f'Epoch {epoch}')\n",
        "  train(model, device, train_loader, optimizer, criterion)\n",
        "  test(model, device, test_loader, criterion)\n",
        "  scheduler.step()"
      ],
      "metadata": {
        "id": "eet8E6WnOhFw",
        "outputId": "bb326411-6021-41a6-c5e2-421ed211db83",
        "colab": {
          "base_uri": "https://localhost:8080/"
        }
      },
      "id": "eet8E6WnOhFw",
      "execution_count": 12,
      "outputs": [
        {
          "output_type": "stream",
          "name": "stdout",
          "text": [
            "Adjusting learning rate of group 0 to 1.0000e-02.\n",
            "Epoch 1\n"
          ]
        },
        {
          "output_type": "stream",
          "name": "stderr",
          "text": [
            "Train: Loss=1.1148 Batch_id=117 Accuracy=34.59: 100%|██████████| 118/118 [00:23<00:00,  5.09it/s]\n"
          ]
        },
        {
          "output_type": "stream",
          "name": "stdout",
          "text": [
            "Test set: Average loss: 0.9275, Accuracy: 7470/10000 (74.70%)\n",
            "\n",
            "Adjusting learning rate of group 0 to 1.0000e-02.\n",
            "Epoch 2\n"
          ]
        },
        {
          "output_type": "stream",
          "name": "stderr",
          "text": [
            "Train: Loss=0.1264 Batch_id=117 Accuracy=88.36: 100%|██████████| 118/118 [00:22<00:00,  5.14it/s]\n"
          ]
        },
        {
          "output_type": "stream",
          "name": "stdout",
          "text": [
            "Test set: Average loss: 0.1287, Accuracy: 9597/10000 (95.97%)\n",
            "\n",
            "Adjusting learning rate of group 0 to 1.0000e-02.\n",
            "Epoch 3\n"
          ]
        },
        {
          "output_type": "stream",
          "name": "stderr",
          "text": [
            "Train: Loss=0.0698 Batch_id=117 Accuracy=95.60: 100%|██████████| 118/118 [00:23<00:00,  5.10it/s]\n"
          ]
        },
        {
          "output_type": "stream",
          "name": "stdout",
          "text": [
            "Test set: Average loss: 0.0719, Accuracy: 9777/10000 (97.77%)\n",
            "\n",
            "Adjusting learning rate of group 0 to 1.0000e-02.\n",
            "Epoch 4\n"
          ]
        },
        {
          "output_type": "stream",
          "name": "stderr",
          "text": [
            "Train: Loss=0.0685 Batch_id=117 Accuracy=96.92: 100%|██████████| 118/118 [00:23<00:00,  5.03it/s]\n"
          ]
        },
        {
          "output_type": "stream",
          "name": "stdout",
          "text": [
            "Test set: Average loss: 0.0521, Accuracy: 9827/10000 (98.27%)\n",
            "\n",
            "Adjusting learning rate of group 0 to 1.0000e-02.\n",
            "Epoch 5\n"
          ]
        },
        {
          "output_type": "stream",
          "name": "stderr",
          "text": [
            "Train: Loss=0.0728 Batch_id=117 Accuracy=97.53: 100%|██████████| 118/118 [00:23<00:00,  5.05it/s]\n"
          ]
        },
        {
          "output_type": "stream",
          "name": "stdout",
          "text": [
            "Test set: Average loss: 0.0471, Accuracy: 9851/10000 (98.51%)\n",
            "\n",
            "Adjusting learning rate of group 0 to 1.0000e-02.\n",
            "Epoch 6\n"
          ]
        },
        {
          "output_type": "stream",
          "name": "stderr",
          "text": [
            "Train: Loss=0.0249 Batch_id=117 Accuracy=97.70: 100%|██████████| 118/118 [00:23<00:00,  5.08it/s]\n"
          ]
        },
        {
          "output_type": "stream",
          "name": "stdout",
          "text": [
            "Test set: Average loss: 0.0417, Accuracy: 9869/10000 (98.69%)\n",
            "\n",
            "Adjusting learning rate of group 0 to 1.0000e-02.\n",
            "Epoch 7\n"
          ]
        },
        {
          "output_type": "stream",
          "name": "stderr",
          "text": [
            "Train: Loss=0.0764 Batch_id=117 Accuracy=98.00: 100%|██████████| 118/118 [00:23<00:00,  5.08it/s]\n"
          ]
        },
        {
          "output_type": "stream",
          "name": "stdout",
          "text": [
            "Test set: Average loss: 0.0392, Accuracy: 9861/10000 (98.61%)\n",
            "\n",
            "Adjusting learning rate of group 0 to 1.0000e-02.\n",
            "Epoch 8\n"
          ]
        },
        {
          "output_type": "stream",
          "name": "stderr",
          "text": [
            "Train: Loss=0.0727 Batch_id=117 Accuracy=98.27: 100%|██████████| 118/118 [00:23<00:00,  5.09it/s]\n"
          ]
        },
        {
          "output_type": "stream",
          "name": "stdout",
          "text": [
            "Test set: Average loss: 0.0339, Accuracy: 9880/10000 (98.80%)\n",
            "\n",
            "Adjusting learning rate of group 0 to 1.0000e-02.\n",
            "Epoch 9\n"
          ]
        },
        {
          "output_type": "stream",
          "name": "stderr",
          "text": [
            "Train: Loss=0.0378 Batch_id=117 Accuracy=98.41: 100%|██████████| 118/118 [00:23<00:00,  5.08it/s]\n"
          ]
        },
        {
          "output_type": "stream",
          "name": "stdout",
          "text": [
            "Test set: Average loss: 0.0372, Accuracy: 9880/10000 (98.80%)\n",
            "\n",
            "Adjusting learning rate of group 0 to 1.0000e-02.\n",
            "Epoch 10\n"
          ]
        },
        {
          "output_type": "stream",
          "name": "stderr",
          "text": [
            "Train: Loss=0.0502 Batch_id=117 Accuracy=98.40: 100%|██████████| 118/118 [00:22<00:00,  5.18it/s]\n"
          ]
        },
        {
          "output_type": "stream",
          "name": "stdout",
          "text": [
            "Test set: Average loss: 0.0311, Accuracy: 9891/10000 (98.91%)\n",
            "\n",
            "Adjusting learning rate of group 0 to 1.0000e-02.\n",
            "Epoch 11\n"
          ]
        },
        {
          "output_type": "stream",
          "name": "stderr",
          "text": [
            "Train: Loss=0.0222 Batch_id=117 Accuracy=98.55: 100%|██████████| 118/118 [00:22<00:00,  5.20it/s]\n"
          ]
        },
        {
          "output_type": "stream",
          "name": "stdout",
          "text": [
            "Test set: Average loss: 0.0308, Accuracy: 9900/10000 (99.00%)\n",
            "\n",
            "Adjusting learning rate of group 0 to 1.0000e-02.\n",
            "Epoch 12\n"
          ]
        },
        {
          "output_type": "stream",
          "name": "stderr",
          "text": [
            "Train: Loss=0.0095 Batch_id=117 Accuracy=98.60: 100%|██████████| 118/118 [00:22<00:00,  5.31it/s]\n"
          ]
        },
        {
          "output_type": "stream",
          "name": "stdout",
          "text": [
            "Test set: Average loss: 0.0283, Accuracy: 9903/10000 (99.03%)\n",
            "\n",
            "Adjusting learning rate of group 0 to 1.0000e-02.\n",
            "Epoch 13\n"
          ]
        },
        {
          "output_type": "stream",
          "name": "stderr",
          "text": [
            "Train: Loss=0.0206 Batch_id=117 Accuracy=98.75: 100%|██████████| 118/118 [00:22<00:00,  5.29it/s]\n"
          ]
        },
        {
          "output_type": "stream",
          "name": "stdout",
          "text": [
            "Test set: Average loss: 0.0323, Accuracy: 9887/10000 (98.87%)\n",
            "\n",
            "Adjusting learning rate of group 0 to 1.0000e-02.\n",
            "Epoch 14\n"
          ]
        },
        {
          "output_type": "stream",
          "name": "stderr",
          "text": [
            "Train: Loss=0.0115 Batch_id=117 Accuracy=98.77: 100%|██████████| 118/118 [00:22<00:00,  5.25it/s]\n"
          ]
        },
        {
          "output_type": "stream",
          "name": "stdout",
          "text": [
            "Test set: Average loss: 0.0265, Accuracy: 9898/10000 (98.98%)\n",
            "\n",
            "Adjusting learning rate of group 0 to 1.0000e-02.\n",
            "Epoch 15\n"
          ]
        },
        {
          "output_type": "stream",
          "name": "stderr",
          "text": [
            "Train: Loss=0.0224 Batch_id=117 Accuracy=98.84: 100%|██████████| 118/118 [00:22<00:00,  5.29it/s]\n"
          ]
        },
        {
          "output_type": "stream",
          "name": "stdout",
          "text": [
            "Test set: Average loss: 0.0258, Accuracy: 9908/10000 (99.08%)\n",
            "\n",
            "Adjusting learning rate of group 0 to 1.0000e-03.\n",
            "Epoch 16\n"
          ]
        },
        {
          "output_type": "stream",
          "name": "stderr",
          "text": [
            "Train: Loss=0.0213 Batch_id=117 Accuracy=99.11: 100%|██████████| 118/118 [00:21<00:00,  5.38it/s]\n"
          ]
        },
        {
          "output_type": "stream",
          "name": "stdout",
          "text": [
            "Test set: Average loss: 0.0232, Accuracy: 9913/10000 (99.13%)\n",
            "\n",
            "Adjusting learning rate of group 0 to 1.0000e-03.\n",
            "Epoch 17\n"
          ]
        },
        {
          "output_type": "stream",
          "name": "stderr",
          "text": [
            "Train: Loss=0.0104 Batch_id=117 Accuracy=99.11: 100%|██████████| 118/118 [00:21<00:00,  5.43it/s]\n"
          ]
        },
        {
          "output_type": "stream",
          "name": "stdout",
          "text": [
            "Test set: Average loss: 0.0226, Accuracy: 9914/10000 (99.14%)\n",
            "\n",
            "Adjusting learning rate of group 0 to 1.0000e-03.\n",
            "Epoch 18\n"
          ]
        },
        {
          "output_type": "stream",
          "name": "stderr",
          "text": [
            "Train: Loss=0.0206 Batch_id=117 Accuracy=99.17: 100%|██████████| 118/118 [00:21<00:00,  5.40it/s]\n"
          ]
        },
        {
          "output_type": "stream",
          "name": "stdout",
          "text": [
            "Test set: Average loss: 0.0223, Accuracy: 9915/10000 (99.15%)\n",
            "\n",
            "Adjusting learning rate of group 0 to 1.0000e-03.\n",
            "Epoch 19\n"
          ]
        },
        {
          "output_type": "stream",
          "name": "stderr",
          "text": [
            "Train: Loss=0.0465 Batch_id=117 Accuracy=99.13: 100%|██████████| 118/118 [00:22<00:00,  5.32it/s]\n"
          ]
        },
        {
          "output_type": "stream",
          "name": "stdout",
          "text": [
            "Test set: Average loss: 0.0224, Accuracy: 9912/10000 (99.12%)\n",
            "\n",
            "Adjusting learning rate of group 0 to 1.0000e-03.\n",
            "Epoch 20\n"
          ]
        },
        {
          "output_type": "stream",
          "name": "stderr",
          "text": [
            "Train: Loss=0.0172 Batch_id=117 Accuracy=99.16: 100%|██████████| 118/118 [00:22<00:00,  5.24it/s]\n"
          ]
        },
        {
          "output_type": "stream",
          "name": "stdout",
          "text": [
            "Test set: Average loss: 0.0223, Accuracy: 9915/10000 (99.15%)\n",
            "\n",
            "Adjusting learning rate of group 0 to 1.0000e-03.\n"
          ]
        }
      ]
    },
    {
      "cell_type": "markdown",
      "source": [
        "This code snippet is used to plot the training and test losses and accuracies of a PyTorch neural network model trained on the MNIST dataset. It creates a 2x2 grid of subplots and plots the training loss, training accuracy, test loss, and test accuracy on each subplot, respectively. The `train_losses`, `train_acc`, `test_losses`, and `test_acc` variables are lists that contain the loss and accuracy values of the model on the training and test datasets, respectively, at each epoch. This code can be used to visualize the performance of the model during training and testing and to identify any overfitting or underfitting issues."
      ],
      "metadata": {
        "id": "Equ1ZPtROvMp"
      },
      "id": "Equ1ZPtROvMp"
    },
    {
      "cell_type": "code",
      "source": [
        "fig, axs = plt.subplots(2,2,figsize=(15,10))\n",
        "axs[0, 0].plot(train_losses)\n",
        "axs[0, 0].set_title(\"Training Loss\")\n",
        "axs[1, 0].plot(train_acc)\n",
        "axs[1, 0].set_title(\"Training Accuracy\")\n",
        "axs[0, 1].plot(test_losses)\n",
        "axs[0, 1].set_title(\"Test Loss\")\n",
        "axs[1, 1].plot(test_acc)\n",
        "axs[1, 1].set_title(\"Test Accuracy\")"
      ],
      "metadata": {
        "id": "RS6ZxYhdOwtE",
        "outputId": "813449c8-bb40-4210-8003-8e4b14ac043f",
        "colab": {
          "base_uri": "https://localhost:8080/",
          "height": 544
        }
      },
      "id": "RS6ZxYhdOwtE",
      "execution_count": 13,
      "outputs": [
        {
          "output_type": "execute_result",
          "data": {
            "text/plain": [
              "Text(0.5, 1.0, 'Test Accuracy')"
            ]
          },
          "metadata": {},
          "execution_count": 13
        },
        {
          "output_type": "display_data",
          "data": {
            "text/plain": [
              "<Figure size 1500x1000 with 4 Axes>"
            ],
            "image/png": "[encoded data removed]"
          },
          "metadata": {}
        }
      ]
    }
  ],
  "metadata": {
    "colab": {
      "provenance": [],
      "gpuType": "T4"
    },
    "language_info": {
      "name": "python"
    },
    "accelerator": "GPU",
    "kernelspec": {
      "name": "python3",
      "display_name": "Python 3"
    }
  },
  "nbformat": 4,
  "nbformat_minor": 5
}